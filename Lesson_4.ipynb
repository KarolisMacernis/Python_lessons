{
 "metadata": {
  "language_info": {
   "codemirror_mode": {
    "name": "ipython",
    "version": 3
   },
   "file_extension": ".py",
   "mimetype": "text/x-python",
   "name": "python",
   "nbconvert_exporter": "python",
   "pygments_lexer": "ipython3",
   "version": "3.7.6"
  },
  "orig_nbformat": 4,
  "kernelspec": {
   "name": "python3",
   "display_name": "Python 3.7.6 64-bit ('base': conda)"
  },
  "interpreter": {
   "hash": "5214c58419e58d00229fb9112174135a9266659f8fb2bc1ecfd043523847c4e7"
  }
 },
 "nbformat": 4,
 "nbformat_minor": 2,
 "cells": [
  {
   "cell_type": "code",
   "execution_count": 23,
   "metadata": {},
   "outputs": [
    {
     "output_type": "execute_result",
     "data": {
      "text/plain": [
       "0.4"
      ]
     },
     "metadata": {},
     "execution_count": 23
    }
   ],
   "source": [
    "def skaiciu_sandauga (skaicius1, skaicius2):\n",
    "    if ((skaicius1 + skaicius2)%2)==0:\n",
    "        return skaicius1 * skaicius2\n",
    "    else:\n",
    "        return skaicius1 / skaicius2\n",
    "skaiciu_sandauga(2, 5)"
   ]
  },
  {
   "cell_type": "code",
   "execution_count": 201,
   "metadata": {},
   "outputs": [
    {
     "output_type": "stream",
     "name": "stdout",
     "text": [
      "Hello, Karolis\n<function pasisveikinimas at 0x000001FFE20A3A68>\nHello, Karolis\n"
     ]
    }
   ],
   "source": [
    "def pasisveikinimas (Vardas):\n",
    "    print (\"Hello, \" + Vardas)\n",
    "pasisveikinimas (\"Karolis\")\n",
    "greeting = pasisveikinimas\n",
    "print (greeting)\n",
    "greeting(\"Karolis\") #???????"
   ]
  },
  {
   "cell_type": "code",
   "execution_count": 200,
   "metadata": {},
   "outputs": [],
   "source": [
    "#???????????\n"
   ]
  },
  {
   "cell_type": "code",
   "execution_count": 203,
   "metadata": {},
   "outputs": [
    {
     "output_type": "execute_result",
     "data": {
      "text/plain": [
       "3525"
      ]
     },
     "metadata": {},
     "execution_count": 203
    }
   ],
   "source": [
    "def numbers (numbers1, numbers2):\n",
    "    numbers1_modified = []\n",
    "    for a in numbers1:\n",
    "        if a > 10:\n",
    "            numbers1_modified.append (a)\n",
    "    numbers2_modified = []\n",
    "    for b in numbers2:\n",
    "        if abs(b) > 9:\n",
    "            numbers2_modified.append (b)\n",
    "    return sum(numbers1_modified) * sum(numbers2_modified)\n",
    "\n",
    "numbers ([80, 9, 70, 85, 2], [7, -60, 75, 4])"
   ]
  },
  {
   "cell_type": "code",
   "execution_count": 211,
   "metadata": {},
   "outputs": [
    {
     "output_type": "stream",
     "name": "stdout",
     "text": [
      "Perimetras yra 14 , plotas yra 10 , tūris yra 30\n"
     ]
    }
   ],
   "source": [
    "def skaiciuokle (ilgis, plotis, aukštis, pavadinimas):\n",
    "    if (pavadinimas) == 'stačiakampis_gretasienis':\n",
    "        perimetras = (ilgis + plotis) * 2\n",
    "        plotas = ilgis * plotis\n",
    "        tūris = ilgis * plotis * aukštis\n",
    "        print (\"Perimetras yra\", perimetras, \", plotas yra\", plotas, \", tūris yra\", tūris)\n",
    "    else:\n",
    "        raise ValueError (f\"Tokios figūros ({pavadinimas}) neradome\")\n",
    "        \n",
    "skaiciuokle (5,2,3,'stačiakampis_gretasienis')"
   ]
  },
  {
   "cell_type": "code",
   "execution_count": 186,
   "metadata": {},
   "outputs": [
    {
     "output_type": "stream",
     "name": "stdout",
     "text": [
      "Raidžių yra: 13 , skaičių yra: 4 , tarpų yra: 2 , simbolių yra: 1\n"
     ]
    }
   ],
   "source": [
    "tekstas = \"Vilnius Coding 2021!\"\n",
    "letters = 0\n",
    "digit = 0\n",
    "space = 0\n",
    "other = 0\n",
    "for i in tekstas:\n",
    "   if i.isalpha():\n",
    "        letters+=1\n",
    "   elif i.isnumeric():\n",
    "        digit+=1\n",
    "   elif i.isspace():\n",
    "        space+=1\n",
    "   else:\n",
    "        other+=1\n",
    "print (\"Raidžių yra:\", letters, \", skaičių yra:\", digit, \", tarpų yra:\", space, \", simbolių yra:\", other) #!!!!\n"
   ]
  },
  {
   "cell_type": "code",
   "execution_count": 213,
   "metadata": {},
   "outputs": [],
   "source": [
    "def skaiciai (numbers):\n",
    "    numbers.sort ()\n",
    "    a = numbers[-1]\n",
    "    b = min(numbers)\n",
    "    skirtumas = a - b\n",
    "    return skirtumas\n"
   ]
  }
 ]
}