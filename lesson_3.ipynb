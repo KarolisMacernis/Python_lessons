{
 "cells": [
  {
   "cell_type": "code",
   "execution_count": 105,
   "metadata": {},
   "outputs": [
    {
     "name": "stdout",
     "output_type": "stream",
     "text": [
      "Ford\n"
     ]
    }
   ],
   "source": [
    "car = {\"brand\": \"Ford\", \"model\": \"Mustang\", \"year\": 1964}\r\n",
    "print (car.get(\"brand\"))"
   ]
  },
  {
   "cell_type": "code",
   "execution_count": 106,
   "metadata": {},
   "outputs": [
    {
     "data": {
      "text/plain": [
       "3"
      ]
     },
     "execution_count": 106,
     "metadata": {},
     "output_type": "execute_result"
    }
   ],
   "source": [
    "len (car)"
   ]
  },
  {
   "cell_type": "code",
   "execution_count": 107,
   "metadata": {},
   "outputs": [
    {
     "name": "stdout",
     "output_type": "stream",
     "text": [
      "{'brand': 'Ford', 'model': 'Mustang', 'year': 2020}\n"
     ]
    }
   ],
   "source": [
    "car[\"year\"] = 2020\r\n",
    "print (car)"
   ]
  },
  {
   "cell_type": "code",
   "execution_count": 108,
   "metadata": {},
   "outputs": [
    {
     "name": "stdout",
     "output_type": "stream",
     "text": [
      "{'brand': 'Ford', 'model': 'Mustang', 'year': 2020, 'color': 'red', 'used': True}\n"
     ]
    }
   ],
   "source": [
    "#????????\r\n",
    "car.update({'color' : 'red', 'used' : True})\r\n",
    "print (car)\r\n"
   ]
  },
  {
   "cell_type": "code",
   "execution_count": 109,
   "metadata": {},
   "outputs": [
    {
     "name": "stdout",
     "output_type": "stream",
     "text": [
      "{'model': 'Mustang', 'year': None, 'color': 'red', 'used': True}\n"
     ]
    }
   ],
   "source": [
    "car.pop('brand')\r\n",
    "car[\"year\"] = None\r\n",
    "print (car)"
   ]
  },
  {
   "cell_type": "code",
   "execution_count": 110,
   "metadata": {},
   "outputs": [
    {
     "name": "stdout",
     "output_type": "stream",
     "text": [
      "{'cherry', 'banana', 'apple', ('nauja_reiksme', 5)}\n"
     ]
    }
   ],
   "source": [
    "fruits = {\"apple\", \"banana\", \"cherry\"}\r\n",
    "fruits.add (('nauja_reiksme', 5))\r\n",
    "print (fruits)"
   ]
  },
  {
   "cell_type": "code",
   "execution_count": 111,
   "metadata": {},
   "outputs": [
    {
     "name": "stdout",
     "output_type": "stream",
     "text": [
      "{'cherry', 'banana', 'watermelon'}\n"
     ]
    }
   ],
   "source": [
    "fruits = {\"apple\", \"banana\", \"cherry\"}\r\n",
    "fruits.add ('watermelon')\r\n",
    "fruits.discard ('apple')\r\n",
    "print (fruits)"
   ]
  },
  {
   "cell_type": "code",
   "execution_count": 1,
   "metadata": {},
   "outputs": [
    {
     "output_type": "stream",
     "name": "stdout",
     "text": [
      "{'peer', 'banana', 'coconut', 'blueberry', 'apple', 'watermelon'}\n"
     ]
    }
   ],
   "source": [
    "fruits = {\"apple\", \"banana\", \"cherry\"}\n",
    "fruits.add ('watermelon')\n",
    "fruits.update (['coconut', 'peer', 'blueberry'])\n",
    "fruits.remove ('cherry')\n",
    "len (fruits)\n",
    "#???????\n",
    "#\"Pridekite jau egzistuojanti vaisiu\"\n",
    "len (fruits)\n",
    "print (fruits)"
   ]
  },
  {
   "cell_type": "code",
   "execution_count": 118,
   "metadata": {},
   "outputs": [
    {
     "name": "stdout",
     "output_type": "stream",
     "text": [
      "Žodžių ilgesnių nei 10 simbolių: 0\n",
      "Ilgiausias žodis: zvejyboje\n",
      "Trumpiausias žodis: a\n",
      "Žodžiai polindromai: ['madam', 'a']\n"
     ]
    }
   ],
   "source": [
    "a = (input (\"Pasirinkite 1-ą žodį\"))\r\n",
    "b = (input (\"Pasirinkite 2-ą žodį:\"))\r\n",
    "c = (input (\"Pasirinkite 3-ią žodį\"))\r\n",
    "d = (input (\"Pasirinkite 4-ą žodį\"))\r\n",
    "e = (input (\"Pasirinkite 5-ą žodį\"))\r\n",
    "f = (input (\"Pasirinkite 6-ą žodį\"))\r\n",
    "g = (input (\"Pasirinkite 7-ą žodį\"))\r\n",
    "h = (input (\"Pasirinkite 8-ą žodį\"))\r\n",
    "i = (input (\"Pasirinkite 9-ą žodį\"))\r\n",
    "j = (input (\"Pasirinkite 10-ą žodį\"))\r\n",
    "user_input = [a, b, c, d, e, f, g, h, i, j]\r\n",
    "ilgi_zodziai = []\r\n",
    "for zodis in user_input:\r\n",
    "        if len (zodis) > 10:\r\n",
    "            ilgi_zodziai.append (zodis)\r\n",
    "print (\"Žodžių ilgesnių nei 10 simbolių:\", (len (ilgi_zodziai))) \r\n",
    "print (\"Ilgiausias žodis:\", (max (user_input, key = len)))       \r\n",
    "print (\"Trumpiausias žodis:\", (min (user_input, key = len))) \r\n",
    "\r\n",
    "zodziai_polindromai = []\r\n",
    "for zodis in user_input:\r\n",
    "    if zodis == zodis[::-1]:\r\n",
    "        zodziai_polindromai.append (zodis)\r\n",
    "print (\"Žodžiai polindromai:\", zodziai_polindromai)\r\n",
    "    \r\n",
    "\r\n",
    "\r\n",
    "\r\n",
    "\r\n"
   ]
  },
  {
   "cell_type": "code",
   "execution_count": 4,
   "metadata": {},
   "outputs": [
    {
     "output_type": "stream",
     "name": "stdout",
     "text": [
      "rezultatas = 21 , nes 7 ir 3 sandauga yra didžiausia\n(18, -12, 10, -35, 21)\n[6, -2, -5, 7, 3]\n"
     ]
    }
   ],
   "source": [
    "my_list = [3, 6, -2, -5, 7, 3]\n",
    "res = tuple (i * j for i, j in zip (my_list, my_list[1:])) #!!!!!!!!!\n",
    "print (\"rezultatas =\", max (res), \", nes 7 ir 3 sandauga yra didžiausia\") #!!!!!\n",
    "print (res)\n",
    "print (my_list[1:])\n"
   ]
  },
  {
   "cell_type": "code",
   "execution_count": 126,
   "metadata": {},
   "outputs": [
    {
     "name": "stdout",
     "output_type": "stream",
     "text": [
      "c = [3, 8, 9, 15] nes šie skaičiai pasikartoja abiejose listuose\n"
     ]
    }
   ],
   "source": [
    "a = [1, 2, 3, 4, 5, 6, 7, 8, 9, 15]\r\n",
    "b = [3, 8, 9, 11, 15]\r\n",
    "intersection = list (set(a) & set (b))\r\n",
    "c = sorted(intersection)\r\n",
    "print (\"c =\", c, \"nes šie skaičiai pasikartoja abiejose listuose\")\r\n",
    "\r\n"
   ]
  },
  {
   "cell_type": "code",
   "execution_count": 5,
   "metadata": {},
   "outputs": [
    {
     "output_type": "stream",
     "name": "stdout",
     "text": [
      "Unikalūs, teigiami skaičiai: [800, 1, 2, 900, 5, 8, 10, 12, 14]\n"
     ]
    }
   ],
   "source": [
    "x = [1, 5, 1, 2, 8, -9, 10, 1, -8, -900, 14, 5, -8, 2, 1, -20, 900, 800, -6, -8, 12, 1]\n",
    "y = set(x)\n",
    "teigiami_skaiciai = list(filter(lambda z: z > 0, y))\n",
    "print (\"Unikalūs, teigiami skaičiai:\", teigiami_skaiciai)"
   ]
  },
  {
   "cell_type": "code",
   "execution_count": 10,
   "metadata": {},
   "outputs": [
    {
     "output_type": "stream",
     "name": "stdout",
     "text": [
      "14796.0\n14796.0\n"
     ]
    }
   ],
   "source": [
    "x = {\"cost_price\": 32.67, \"sell_price\": 45.00, \"inventory\": 1200}\n",
    "profit = x [\"inventory\"] * x [\"sell_price\"] - x [\"cost_price\"] * x [\"inventory\"]\n",
    "print (profit)\n",
    "profit2 = round (profit, 2)\n",
    "print (profit2)\n",
    "#!!!!!!!!"
   ]
  }
 ],
 "metadata": {
  "interpreter": {
   "hash": "5214c58419e58d00229fb9112174135a9266659f8fb2bc1ecfd043523847c4e7"
  },
  "kernelspec": {
   "name": "python3",
   "display_name": "Python 3.7.6 64-bit (conda)"
  },
  "language_info": {
   "codemirror_mode": {
    "name": "ipython",
    "version": 3
   },
   "file_extension": ".py",
   "mimetype": "text/x-python",
   "name": "python",
   "nbconvert_exporter": "python",
   "pygments_lexer": "ipython3",
   "version": "3.7.6"
  },
  "orig_nbformat": 4
 },
 "nbformat": 4,
 "nbformat_minor": 2
}